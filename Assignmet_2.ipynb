{
 "cells": [
  {
   "cell_type": "code",
   "execution_count": 38,
   "id": "63161a49",
   "metadata": {},
   "outputs": [
    {
     "name": "stdout",
     "output_type": "stream",
     "text": [
      "4\n"
     ]
    }
   ],
   "source": [
    "# 1\n",
    "def pair(arr):\n",
    "    arr.sort()\n",
    "    pair=[]\n",
    "    for i in range(0,len(arr),2):\n",
    "         pair.append([arr[i],arr[i+1]])\n",
    "    \n",
    "    sumed=0\n",
    "    for i in pair:\n",
    "        sumed+=min(i)\n",
    "\n",
    "    return sumed\n",
    "\n",
    "print(pair([1,4,3,2]))"
   ]
  },
  {
   "cell_type": "code",
   "execution_count": 41,
   "id": "b205bfca",
   "metadata": {},
   "outputs": [
    {
     "name": "stdout",
     "output_type": "stream",
     "text": [
      "3\n"
     ]
    }
   ],
   "source": [
    "# 2\n",
    "def alice_candie(arr):\n",
    "    a = len(arr) // 2\n",
    "    b = set(arr)\n",
    "    if a == len(b):\n",
    "        return a\n",
    "    elif a > len(b):\n",
    "        return len(b)\n",
    "    elif len(b) > a:\n",
    "        return a\n",
    "\n",
    "print(alice_candie([1,1,1,1,2,2,2,3,3,3]))"
   ]
  },
  {
   "cell_type": "code",
   "execution_count": 87,
   "id": "7a9d3b6d",
   "metadata": {},
   "outputs": [
    {
     "name": "stdout",
     "output_type": "stream",
     "text": [
      "5\n"
     ]
    }
   ],
   "source": [
    "# 3\n",
    "def harmonious(nums):\n",
    "        d, a = {}, 0\n",
    "        for i in nums:\n",
    "            if i not in d: d[i] = 1\n",
    "            else: d[i] += 1\n",
    "        for i in d:\n",
    "            if i + 1 in d.keys():\n",
    "                a = max(a, d[i] + d[i+1])\n",
    "        return a\n",
    "    \n",
    "print(harmonious([1,3,2,2,5,2,3,7]))"
   ]
  },
  {
   "cell_type": "code",
   "execution_count": 90,
   "id": "b6e3b5cb",
   "metadata": {},
   "outputs": [
    {
     "name": "stdout",
     "output_type": "stream",
     "text": [
      "False\n"
     ]
    }
   ],
   "source": [
    "# 4 \n",
    "def flower_bed(arr,n):\n",
    "    a=arr.count(1)\n",
    "    count=0\n",
    "    for i in range(len(arr)):\n",
    "        if arr[i]==1:\n",
    "            count+=1\n",
    "            if arr[i-1]==1:\n",
    "                return False\n",
    "            else:\n",
    "                continue\n",
    "    if count>=n:\n",
    "        return True\n",
    "    else:\n",
    "        return False\n",
    "\n",
    "print(flower_bed([1,0,0,0,1],1))"
   ]
  },
  {
   "cell_type": "code",
   "execution_count": 91,
   "id": "9f478aac",
   "metadata": {},
   "outputs": [
    {
     "name": "stdout",
     "output_type": "stream",
     "text": [
      "True\n"
     ]
    }
   ],
   "source": [
    "# 4\n",
    "def flower_bed(arr, n):\n",
    "    count = 0\n",
    "    i = 0\n",
    "    while i < len(arr):\n",
    "        if arr[i] == 0 and (i == 0 or arr[i-1] == 0) and (i == len(arr)-1 or arr[i+1] == 0):\n",
    "            arr[i] = 1\n",
    "            count += 1\n",
    "        i += 1\n",
    "    return count >= n\n",
    "\n",
    "print(flower_bed([1, 0, 0, 0, 1], 1))"
   ]
  },
  {
   "cell_type": "code",
   "execution_count": 96,
   "id": "3e2b556f",
   "metadata": {},
   "outputs": [
    {
     "name": "stdout",
     "output_type": "stream",
     "text": [
      "6\n"
     ]
    }
   ],
   "source": [
    "# 5\n",
    "def max_product(nums):\n",
    "        nums.sort()\n",
    "        return max(nums[-1]*nums[-2]*nums[-3],nums[0]*nums[1]*nums[-1])\n",
    "    \n",
    "print(max_product([1,2,3]))"
   ]
  },
  {
   "cell_type": "code",
   "execution_count": 99,
   "id": "b3df85e4",
   "metadata": {},
   "outputs": [
    {
     "name": "stdout",
     "output_type": "stream",
     "text": [
      "4\n"
     ]
    }
   ],
   "source": [
    "# 6\n",
    "def search(arr,target):\n",
    "    start = 0\n",
    "    end = len(arr) - 1\n",
    "    while start <= end:\n",
    "        mid = (start + end) // 2\n",
    "        if arr[mid] == target:\n",
    "            return mid  # Return the index instead of the element itself\n",
    "        elif arr[mid] < target:\n",
    "            start = mid + 1\n",
    "        else:\n",
    "            end = mid - 1\n",
    "    return -1\n",
    "\n",
    "print(search([-1,0,3,5,9,12],9))"
   ]
  },
  {
   "cell_type": "code",
   "execution_count": 102,
   "id": "582928e5",
   "metadata": {},
   "outputs": [
    {
     "name": "stdout",
     "output_type": "stream",
     "text": [
      "True\n"
     ]
    }
   ],
   "source": [
    "# 7\n",
    "def monotonic(nums):\n",
    "    increasing = True\n",
    "    decreasing = True\n",
    "    for i in range(1, len(nums)):\n",
    "        if increasing and nums[i] > nums[i - 1]:\n",
    "              increasing = False\n",
    "        elif decreasing and nums[i] < nums[i - 1]:\n",
    "              decreasing = False\n",
    "    return increasing or decreasing\n",
    "\n",
    "print(monotonic([1,2,2,3]))"
   ]
  },
  {
   "cell_type": "code",
   "execution_count": 105,
   "id": "8a4af528",
   "metadata": {},
   "outputs": [
    {
     "name": "stdout",
     "output_type": "stream",
     "text": [
      "0\n"
     ]
    }
   ],
   "source": [
    "# 8\n",
    "import random\n",
    "\n",
    "def modifyArray(nums, k):\n",
    "        min_num = min(nums)\n",
    "        max_num = max(nums)\n",
    "        \n",
    "        diff = max_num - min_num\n",
    "        min_diff = 2 * k\n",
    "        \n",
    "        return max(0, diff - min_diff)\n",
    "\n",
    "print(modifyArray([1],0))"
   ]
  }
 ],
 "metadata": {
  "kernelspec": {
   "display_name": "Python 3 (ipykernel)",
   "language": "python",
   "name": "python3"
  },
  "language_info": {
   "codemirror_mode": {
    "name": "ipython",
    "version": 3
   },
   "file_extension": ".py",
   "mimetype": "text/x-python",
   "name": "python",
   "nbconvert_exporter": "python",
   "pygments_lexer": "ipython3",
   "version": "3.9.7"
  }
 },
 "nbformat": 4,
 "nbformat_minor": 5
}
