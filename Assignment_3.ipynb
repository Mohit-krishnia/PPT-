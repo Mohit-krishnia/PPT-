{
 "cells": [
  {
   "cell_type": "code",
   "execution_count": 7,
   "id": "42f3f872",
   "metadata": {},
   "outputs": [
    {
     "name": "stdout",
     "output_type": "stream",
     "text": [
      "2\n"
     ]
    }
   ],
   "source": [
    "# 1\n",
    "def find_closest_sum(nums, target):\n",
    "    closest_sum = None\n",
    "    for i in range(len(nums)):\n",
    "        for j in range(i + 1, len(nums)):\n",
    "              for k in range(j + 1, len(nums)):\n",
    "                sum = nums[i] + nums[j] + nums[k]\n",
    "                if closest_sum is None or abs(target - sum) < abs(target - closest_sum):\n",
    "                      closest_sum = sum\n",
    "\n",
    "    return closest_sum\n",
    "\n",
    "nums = [-1, 2, 1, -4]\n",
    "target = 1\n",
    "\n",
    "closest_sum = find_closest_sum(nums, target)\n",
    "print(closest_sum)"
   ]
  },
  {
   "cell_type": "code",
   "execution_count": 6,
   "id": "e01b26c6",
   "metadata": {},
   "outputs": [
    {
     "name": "stdout",
     "output_type": "stream",
     "text": [
      "[[-2, -1, 1, 2], [-2, 0, 0, 2], [-1, 0, 0, 1]]\n"
     ]
    }
   ],
   "source": [
    "# 2\n",
    "def find_all_unique_quadruplets(nums, target):\n",
    "#     nums.sort()\n",
    "#     quadruplets = []\n",
    "#     for i in range(len(nums)):\n",
    "#         for j in range(i + 1, len(nums)):\n",
    "#             for k in range(j + 1, len(nums)):\n",
    "#                 for l in range(k + 1, len(nums)):\n",
    "#                       if nums[i] + nums[j] + nums[k] + nums[l] == target:\n",
    "#                             quadruplet = [nums[i], nums[j], nums[k], nums[l]]\n",
    "#                             if quadruplet not in quadruplets:\n",
    "#                                   quadruplets.append(quadruplet)\n",
    "\n",
    "#     return quadruplets\n",
    "        nums.sort()\n",
    "        n = len(nums)\n",
    "        result = []\n",
    "        for i in range(n - 3):\n",
    "            if i > 0 and nums[i] == nums[i - 1]:\n",
    "                continue\n",
    "            for j in range(i + 1, n - 2):\n",
    "                if j > i + 1 and nums[j] == nums[j - 1]:\n",
    "                    continue\n",
    "                l, r = j + 1, n - 1\n",
    "                while l < r:\n",
    "                    s = nums[i] + nums[j] + nums[l] + nums[r]\n",
    "                    if s == target:\n",
    "                        result.append([nums[i], nums[j], nums[l], nums[r]])\n",
    "                        while l < r and nums[l] == nums[l + 1]:\n",
    "                            l += 1\n",
    "                        while l < r and nums[r] == nums[r - 1]:\n",
    "                            r -= 1\n",
    "                        l += 1\n",
    "                        r -= 1\n",
    "                    elif s < target:\n",
    "                        l += 1\n",
    "                    else:\n",
    "                        r -= 1\n",
    "        return result\n",
    "    \n",
    "print(find_all_unique_quadruplets([1, 0, -1, 0, -2, 2],0))"
   ]
  },
  {
   "cell_type": "code",
   "execution_count": null,
   "id": "9bcbc8d2",
   "metadata": {},
   "outputs": [],
   "source": [
    "# 3    Still Practising."
   ]
  },
  {
   "cell_type": "code",
   "execution_count": 34,
   "id": "0ddc5d8e",
   "metadata": {},
   "outputs": [
    {
     "data": {
      "text/plain": [
       "2"
      ]
     },
     "execution_count": 34,
     "metadata": {},
     "output_type": "execute_result"
    }
   ],
   "source": [
    "# 4\n",
    "def find_val(arr, val):\n",
    "    start = 0\n",
    "    end = len(arr) - 1\n",
    "    while start <= end:\n",
    "        mid = (start + end) // 2\n",
    "        if arr[mid] == val:\n",
    "            return mid\n",
    "        elif arr[mid] < val:\n",
    "            start = mid + 1\n",
    "        else:\n",
    "            end = mid - 1\n",
    "    return start \n",
    " \n",
    "find_val([1,3,5,6],5)"
   ]
  },
  {
   "cell_type": "code",
   "execution_count": 33,
   "id": "d26a1c33",
   "metadata": {},
   "outputs": [
    {
     "name": "stdout",
     "output_type": "stream",
     "text": [
      "[1, 2, 4]\n"
     ]
    }
   ],
   "source": [
    "# 5\n",
    "def plus_one(digits):\n",
    "        n = len(digits)\n",
    "        carry = 1\n",
    "        \n",
    "        for i in range(n - 1, -1, -1):\n",
    "            digit = digits[i] + carry\n",
    "            if digit == 10:\n",
    "                carry = 1\n",
    "                digits[i] = 0\n",
    "            else:\n",
    "                carry = 0\n",
    "                digits[i] = digit\n",
    "                break\n",
    "        \n",
    "        if carry == 1:\n",
    "            digits.insert(0, 1)\n",
    "        \n",
    "        return digits\n",
    "\n",
    "print(plus_one([1,2,3]))"
   ]
  },
  {
   "cell_type": "code",
   "execution_count": 29,
   "id": "7dc62f2f",
   "metadata": {},
   "outputs": [
    {
     "name": "stdout",
     "output_type": "stream",
     "text": [
      "1\n"
     ]
    }
   ],
   "source": [
    "# 6\n",
    "def count_elements(arr):\n",
    "    d = {}\n",
    "    for i in arr:\n",
    "        if i in d:\n",
    "            d[i] += 1\n",
    "        else:\n",
    "            d[i] = 1\n",
    "    for i in d:\n",
    "        if d[i]==1:\n",
    "            return i\n",
    "\n",
    "print(count_elements([2, 2, 1]))"
   ]
  },
  {
   "cell_type": "code",
   "execution_count": 19,
   "id": "ce9714ba",
   "metadata": {},
   "outputs": [
    {
     "name": "stdout",
     "output_type": "stream",
     "text": [
      "[[2, 2], [4, 49], [51, 74], [76, 99]]\n"
     ]
    }
   ],
   "source": [
    "# 7\n",
    "def mid_array(arr, l, u):\n",
    "    result = []\n",
    "    count = l\n",
    "    for i in range(len(arr)):\n",
    "        if arr[i] == count:\n",
    "            count += 1\n",
    "        else:\n",
    "            if arr[i] <= u:\n",
    "                result.append([count, arr[i] - 1])\n",
    "                count = arr[i] + 1\n",
    "    if count <= u:\n",
    "        result.append([count, u])\n",
    "    return result\n",
    "\n",
    "print(mid_array([0, 1, 3, 50, 75], 0, 99))"
   ]
  },
  {
   "cell_type": "code",
   "execution_count": 22,
   "id": "e112d929",
   "metadata": {},
   "outputs": [
    {
     "name": "stdout",
     "output_type": "stream",
     "text": [
      "False\n"
     ]
    }
   ],
   "source": [
    "# 8\n",
    "def meeting(arr):\n",
    "    for i in range(1,len(arr)):\n",
    "        if arr[i][0]<arr[i-1][1]:\n",
    "            return False\n",
    "    return True\n",
    "print(meeting([[0,30],[5,10],[15,20]]))"
   ]
  }
 ],
 "metadata": {
  "kernelspec": {
   "display_name": "Python 3 (ipykernel)",
   "language": "python",
   "name": "python3"
  },
  "language_info": {
   "codemirror_mode": {
    "name": "ipython",
    "version": 3
   },
   "file_extension": ".py",
   "mimetype": "text/x-python",
   "name": "python",
   "nbconvert_exporter": "python",
   "pygments_lexer": "ipython3",
   "version": "3.9.7"
  }
 },
 "nbformat": 4,
 "nbformat_minor": 5
}
