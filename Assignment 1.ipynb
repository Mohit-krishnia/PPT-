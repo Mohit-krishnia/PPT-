{
 "cells": [
  {
   "cell_type": "code",
   "execution_count": 7,
   "id": "9ad5fa2b",
   "metadata": {},
   "outputs": [
    {
     "name": "stdout",
     "output_type": "stream",
     "text": [
      "[[0, 3], [1, 2]]\n",
      "[[0, 1]]\n"
     ]
    }
   ],
   "source": [
    "# 1\n",
    "def find_indices(arr, target):\n",
    "    dic = {}\n",
    "    for i in range(len(arr)):\n",
    "        for j in range(i + 1, len(arr)):\n",
    "            if target == arr[i] + arr[j]:\n",
    "                if dic.get(target) is None:\n",
    "                    dic[target] = []\n",
    "                if [i, j] not in dic[target]:\n",
    "                    dic[target].append([i, j])\n",
    "    return dic.get(target, [])\n",
    "\n",
    "print(find_indices([2, 4, 5, 7, 9],9))\n",
    "print(find_indices([2,7,11,15],9))"
   ]
  },
  {
   "cell_type": "code",
   "execution_count": 56,
   "id": "cac24a53",
   "metadata": {},
   "outputs": [
    {
     "name": "stdout",
     "output_type": "stream",
     "text": [
      "(5, [0, 1, 3, 0, 4, '_', '_', '_'])\n"
     ]
    }
   ],
   "source": [
    "# 2\n",
    "def remove_occurrence(nums, val):\n",
    "        i = 0\n",
    "        j=0\n",
    "        while i < len(nums):\n",
    "            if nums[i]==val:\n",
    "                nums.pop(i)\n",
    "                i-=1\n",
    "                nums.append('_')\n",
    "                j+=1\n",
    "\n",
    "            i+=1\n",
    "        return len(nums)-j,nums\n",
    "\n",
    "print(remove_occurrence([0, 1, 2, 2, 3, 0, 4, 2], 2))"
   ]
  },
  {
   "cell_type": "code",
   "execution_count": 24,
   "id": "d2059a0b",
   "metadata": {},
   "outputs": [
    {
     "data": {
      "text/plain": [
       "2"
      ]
     },
     "execution_count": 24,
     "metadata": {},
     "output_type": "execute_result"
    }
   ],
   "source": [
    "# 3\n",
    "def find_val(arr, val):\n",
    "    start = 0\n",
    "    end = len(arr) - 1\n",
    "    while start <= end:\n",
    "        mid = (start + end) // 2\n",
    "        if arr[mid] == val:\n",
    "            return mid\n",
    "        elif arr[mid] < val:\n",
    "            start = mid + 1\n",
    "        else:\n",
    "            end = mid - 1\n",
    "    return start \n",
    " \n",
    "find_val([1,3,5,6],5)"
   ]
  },
  {
   "cell_type": "code",
   "execution_count": 44,
   "id": "89fb8c81",
   "metadata": {},
   "outputs": [
    {
     "name": "stdout",
     "output_type": "stream",
     "text": [
      "[1, 2, 4]\n"
     ]
    }
   ],
   "source": [
    "# 4\n",
    "def increment_large_integer(digits):\n",
    "        num = int(''.join(map(str, digits)))\n",
    "        num += 1\n",
    "        result = list(map(int, str(num)))\n",
    "        return result\n",
    "\n",
    "print(increment_large_integer([1, 2, 3])) "
   ]
  },
  {
   "cell_type": "code",
   "execution_count": 50,
   "id": "9f873302",
   "metadata": {},
   "outputs": [
    {
     "name": "stdout",
     "output_type": "stream",
     "text": [
      "[1, 2, 2, 3, 5, 6]\n"
     ]
    }
   ],
   "source": [
    "# 5\n",
    "def merge_sorted_arrays(arr1,arr2,m,n):\n",
    "    nums1[m:] = nums2\n",
    "    nums1.sort()\n",
    "    \n",
    "nums1 = [1, 2, 3, 0, 0, 0]\n",
    "m = 3\n",
    "nums2 = [2, 5, 6]\n",
    "n = 3\n",
    "merge_sorted_arrays(nums1, nums2,m, n)\n",
    "print(nums1)"
   ]
  },
  {
   "cell_type": "code",
   "execution_count": 25,
   "id": "7280a483",
   "metadata": {},
   "outputs": [
    {
     "name": "stdout",
     "output_type": "stream",
     "text": [
      "True\n"
     ]
    }
   ],
   "source": [
    "# 6\n",
    "def duplicate(arr):\n",
    "    for i in range(len(arr)):\n",
    "        for j in range(i+1,len(arr)):\n",
    "            if arr[i]==arr[j]:\n",
    "                return True\n",
    "    else:\n",
    "        return False\n",
    "    \n",
    "print(duplicate([1,2,3,1]))"
   ]
  },
  {
   "cell_type": "code",
   "execution_count": 28,
   "id": "33dcf710",
   "metadata": {},
   "outputs": [
    {
     "name": "stdout",
     "output_type": "stream",
     "text": [
      "[1, 3, 12, 2, 0, 0, 0, 0]\n"
     ]
    }
   ],
   "source": [
    "# 7\n",
    "def move(arr):\n",
    "    for i in range(len(arr)):\n",
    "        for j in range(i+1,len(arr)):\n",
    "            if arr[i]==0 and arr[j]!=0:\n",
    "                arr[i],arr[j]=arr[j],arr[i]\n",
    "            else:\n",
    "                continue\n",
    "    return arr\n",
    "\n",
    "print(move([0,1,0,3,12,0,0,2]))"
   ]
  },
  {
   "cell_type": "code",
   "execution_count": 41,
   "id": "3d7a14e3",
   "metadata": {},
   "outputs": [
    {
     "name": "stdout",
     "output_type": "stream",
     "text": [
      "[2, 3]\n"
     ]
    }
   ],
   "source": [
    "# 8\n",
    "def find_missing(arr):\n",
    "    n = len(arr)\n",
    "    num_set = set(arr)\n",
    "    missing_num = sum(range(1, n + 1)) - sum(num_set)\n",
    "    duplicate_num = sum(arr) - sum(num_set)\n",
    "    return [duplicate_num, missing_num]\n",
    "\n",
    "print(find_missing([1, 2, 2, 4]))"
   ]
  }
 ],
 "metadata": {
  "kernelspec": {
   "display_name": "Python 3 (ipykernel)",
   "language": "python",
   "name": "python3"
  },
  "language_info": {
   "codemirror_mode": {
    "name": "ipython",
    "version": 3
   },
   "file_extension": ".py",
   "mimetype": "text/x-python",
   "name": "python",
   "nbconvert_exporter": "python",
   "pygments_lexer": "ipython3",
   "version": "3.9.7"
  }
 },
 "nbformat": 4,
 "nbformat_minor": 5
}
